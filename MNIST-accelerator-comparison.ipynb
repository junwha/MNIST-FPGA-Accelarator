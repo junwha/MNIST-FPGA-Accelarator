{
 "cells": [
  {
   "cell_type": "code",
   "execution_count": 1,
   "id": "afe372b7",
   "metadata": {},
   "outputs": [
    {
     "data": {
      "application/javascript": "\ntry {\nrequire(['notebook/js/codecell'], function(codecell) {\n  codecell.CodeCell.options_default.highlight_modes[\n      'magic_text/x-csrc'] = {'reg':[/^%%microblaze/]};\n  Jupyter.notebook.events.one('kernel_ready.Kernel', function(){\n      Jupyter.notebook.get_cells().map(function(cell){\n          if (cell.cell_type == 'code'){ cell.auto_highlight(); } }) ;\n  });\n});\n} catch (e) {};\n"
     },
     "metadata": {},
     "output_type": "display_data"
    },
    {
     "data": {
      "application/javascript": "\ntry {\nrequire(['notebook/js/codecell'], function(codecell) {\n  codecell.CodeCell.options_default.highlight_modes[\n      'magic_text/x-csrc'] = {'reg':[/^%%pybind11/]};\n  Jupyter.notebook.events.one('kernel_ready.Kernel', function(){\n      Jupyter.notebook.get_cells().map(function(cell){\n          if (cell.cell_type == 'code'){ cell.auto_highlight(); } }) ;\n  });\n});\n} catch (e) {};\n"
     },
     "metadata": {},
     "output_type": "display_data"
    }
   ],
   "source": [
    "from pynq import Overlay\n",
    "from pynq import allocate\n",
    "import numpy as np\n",
    "import time"
   ]
  },
  {
   "cell_type": "code",
   "execution_count": 2,
   "id": "1fce9841",
   "metadata": {},
   "outputs": [],
   "source": [
    "class MNISTNetwork(Overlay):\n",
    "    def __init__(self, bitstream_name, batch_size=32):\n",
    "        super().__init__(bitstream_name)\n",
    "        self.last_time = 0\n",
    "        self.inbuf = allocate((batch_size*25,), dtype=np.int32)\n",
    "        self.outbuf = allocate((batch_size*10,), dtype=np.int32)\n",
    "        \n",
    "\n",
    "    def calculate(self, inArr):          \n",
    "        np.copyto(self.inbuf, inArr)\n",
    "\n",
    "        self.dma_in.sendchannel.transfer(self.inbuf)\n",
    "        self.dma_out.recvchannel.transfer(self.outbuf)\n",
    "        self.dma_in.sendchannel.wait()\n",
    "        self.dma_out.recvchannel.wait()     \n",
    "\n",
    "        return self.outbuf\n",
    "    "
   ]
  },
  {
   "cell_type": "code",
   "execution_count": 3,
   "id": "1a41b71d",
   "metadata": {},
   "outputs": [],
   "source": [
    "batch_size = 512"
   ]
  },
  {
   "cell_type": "code",
   "execution_count": 4,
   "id": "ebd8a7c5",
   "metadata": {},
   "outputs": [],
   "source": [
    "mnist = np.load(\"dataset/mnist-original.npy\", allow_pickle=True)\n",
    "X = mnist.item().get(\"data\").T\n",
    "y = mnist.item().get(\"label\")[0]\n",
    "\n",
    "model_bit = np.load(\"dataset/mnist-bit_B{}.npy\".format(batch_size), allow_pickle=True).item()\n",
    "X_bit = model_bit[\"X\"]\n",
    "y_bit = model_bit[\"y\"]"
   ]
  },
  {
   "cell_type": "code",
   "execution_count": 5,
   "id": "e83d6d59",
   "metadata": {},
   "outputs": [],
   "source": [
    "## for sw\n",
    "sign = lambda x: float(1) if x>0 else float(-1)\n",
    "sign = np.vectorize(sign)\n",
    "adj = lambda x: x*2-1\n",
    "adj = np.vectorize(adj)\n",
    "model = np.load(\"weights/model.npy\", allow_pickle=True).item()\n",
    "fc1w_q = sign(np.array(model['fc1w']))\n",
    "fc2w_q = sign(np.array(model['fc2w']))\n",
    "fc3w_q = sign(np.array(model['fc3w']))\n",
    " \n"
   ]
  },
  {
   "cell_type": "code",
   "execution_count": 6,
   "id": "c1208ead",
   "metadata": {},
   "outputs": [],
   "source": [
    "def feed_foward(X0):\n",
    "    X0_q = sign(adj(X0))\n",
    "    \n",
    "    X1 = np.matmul(X0_q, fc1w_q.T) \n",
    "   \n",
    "    X1_q = sign(X1)\n",
    "        \n",
    "    X2 = np.matmul(X1_q, fc2w_q.T)\n",
    "\n",
    "    X2_q = sign(X2)\n",
    "\n",
    "    X3 = np.matmul(X2_q, fc3w_q.T) \n",
    "    return X3\n",
    "    \n",
    "def feed_foward_hw(mnist_hw, X0_bit):\n",
    "    return mnist_hw.calculate(X0_bit)"
   ]
  },
  {
   "cell_type": "code",
   "execution_count": 7,
   "id": "7b9d5dd7",
   "metadata": {},
   "outputs": [
    {
     "name": "stdout",
     "output_type": "stream",
     "text": [
      "89.05101102941177\n",
      "32.58093333244324\n"
     ]
    }
   ],
   "source": [
    "mnist_hw = MNISTNetwork(\"bitstream/mnist_B{}.bit\".format(batch_size), batch_size)\n",
    "\n",
    "prediction = []\n",
    "score = 0\n",
    "i = 0\n",
    "assert(len(X_bit) == len(y_bit))\n",
    "\n",
    "t1 = time.time()\n",
    "for i in range(len(X_bit)):\n",
    "    xs, ys = X_bit[i], y_bit[i]    \n",
    "    outputs = feed_foward_hw(mnist_hw, xs)\n",
    "    for i in range(batch_size):\n",
    "        prediction.append(np.argmax(outputs[i*10:(i+1)*10])== ys[i])\n",
    "score = np.mean(prediction) * 100\n",
    "print(score)\n",
    "t2 = time.time()\n",
    "print(t2-t1)"
   ]
  },
  {
   "cell_type": "code",
   "execution_count": null,
   "id": "800093ce",
   "metadata": {},
   "outputs": [],
   "source": [
    "prediction = []\n",
    "score = 0\n",
    "i = 0\n",
    "t1 = time.time()\n",
    "\n",
    "\n",
    "for idx in range(len(X)//batch_size):\n",
    "    xs = X[batch_size * idx:batch_size * idx + batch_size]\n",
    "    ys = y[batch_size * idx:batch_size * idx + batch_size]\n",
    "    outputs = feed_foward(xs)\n",
    "    for output, yk in zip(outputs, ys):\n",
    "        prediction.append(np.argmax(output) == (yk))\n",
    "    i += 1\n",
    "#     print(\"{}th iter\".format(i))\n",
    "    \n",
    "score = np.mean(prediction) * 100\n",
    "print(score)\n",
    "t2 = time.time()\n",
    "print(t2-t1)"
   ]
  },
  {
   "cell_type": "code",
   "execution_count": 72,
   "id": "3ff8944f",
   "metadata": {},
   "outputs": [],
   "source": []
  }
 ],
 "metadata": {
  "kernelspec": {
   "display_name": "Python 3",
   "language": "python",
   "name": "python3"
  },
  "language_info": {
   "codemirror_mode": {
    "name": "ipython",
    "version": 3
   },
   "file_extension": ".py",
   "mimetype": "text/x-python",
   "name": "python",
   "nbconvert_exporter": "python",
   "pygments_lexer": "ipython3",
   "version": "3.8.2"
  }
 },
 "nbformat": 4,
 "nbformat_minor": 5
}
