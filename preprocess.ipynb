{
 "cells": [
  {
   "cell_type": "code",
   "execution_count": 4,
   "id": "cec83daf",
   "metadata": {},
   "outputs": [],
   "source": [
    "import numpy as np"
   ]
  },
  {
   "cell_type": "code",
   "execution_count": 5,
   "id": "0a572a95",
   "metadata": {},
   "outputs": [],
   "source": [
    "batch_size = 8196\n",
    "\n",
    "mnist = np.load(\"dataset/mnist-original.npy\", allow_pickle=True)\n",
    "X = mnist.item().get(\"data\").T\n",
    "y = mnist.item().get(\"label\")[0]\n",
    "\n",
    "model = np.load(\"weights/model.npy\", allow_pickle=True).item()\n",
    "fc1w = np.array(model['fc1w'])\n",
    "fc2w = np.array(model['fc2w'])\n",
    "fc3w = np.array(model['fc3w'])"
   ]
  },
  {
   "cell_type": "code",
   "execution_count": 12,
   "id": "41552193",
   "metadata": {},
   "outputs": [],
   "source": [
    "sign = lambda x: float(1) if x>0 else float(-1)\n",
    "sign = np.vectorize(sign)\n",
    "adj = lambda x: x*2-1\n",
    "adj = np.vectorize(adj)\n",
    "\n",
    "def quantize(x):\n",
    "    return 0 if x==1 else 1\n",
    "def concat4(li, point):\n",
    "    result = np.array([quantize(li[point])], dtype=np.uint32)[0].astype(np.uint32)\n",
    "    for k in range(1, 32):\n",
    "        i = point + k\n",
    "        result <<= 1\n",
    "        result &= 0xFFFFFFFF\n",
    "        result |= quantize(li[i])\n",
    "        result &= 0xFFFFFFFF\n",
    "    return result.astype(np.int32)\n",
    "\n",
    "def pack(A, n):\n",
    "    A_bit = np.array([0]*(n//32), dtype=np.int32)\n",
    "    \n",
    "    A_lin = np.reshape(A, (n,))\n",
    "    \n",
    "    for i in range(0, n, 32):\n",
    "        A_bit[i//32] = concat4(A_lin, i) \n",
    "        \n",
    "    return A_bit"
   ]
  },
  {
   "cell_type": "code",
   "execution_count": 13,
   "id": "b63826b1",
   "metadata": {},
   "outputs": [],
   "source": [
    "def preprocessWeights(fc1w, fc2w, fc3w):\n",
    "    fc1w_q = np.array([list(arr)+([0]*16) for arr in sign(fc1w)])\n",
    "    fc1w_bit = pack(fc1w_q.T.T, fc1w_q.shape[0]*fc1w_q.shape[1])\n",
    "    fc1w_bit = pack(fc1w_q, fc1w_q.shape[0]*fc1w_q.shape[1])\n",
    "    fc2w_q = sign(fc2w)\n",
    "    fc2w_bit = pack(fc2w_q, fc2w_q.shape[0]*fc2w_q.shape[1])\n",
    "    fc3w_q = sign(fc3w)\n",
    "    fc3w_bit = pack(fc3w_q, fc3w_q.shape[0]*fc3w_q.shape[1])\n",
    "    \n",
    "    return fc1w_bit, fc2w_bit, fc3w_bit\n",
    "\n",
    "def preprocessModel(X, y, batch_size):\n",
    "    numpydict = {\"X\":[],\"y\":[]}\n",
    "    for idx in range(len(X)//batch_size):\n",
    "        X0 = X[batch_size * idx:batch_size * idx + batch_size]\n",
    "        X0_q = sign(adj(X0))\n",
    "        X0_q = np.array([list(arr)+[1]*16 for arr in X0_q])\n",
    "        X0_bit = pack(X0_q, X0_q.shape[0]*X0_q.shape[1])\n",
    "        Y0 = y[batch_size * idx:batch_size * idx + batch_size]\n",
    "        numpydict[\"X\"].append(X0_bit)\n",
    "        numpydict[\"y\"].append(Y0)\n",
    "\n",
    "    np.save('dataset/mnist-bit_B{}.npy'.format(batch_size), numpydict, allow_pickle=True)"
   ]
  },
  {
   "cell_type": "code",
   "execution_count": null,
   "id": "26b32c8f",
   "metadata": {},
   "outputs": [],
   "source": [
    "preprocessModel(X, y, batch_size)"
   ]
  },
  {
   "cell_type": "code",
   "execution_count": null,
   "id": "5e94ad68",
   "metadata": {},
   "outputs": [],
   "source": []
  }
 ],
 "metadata": {
  "kernelspec": {
   "display_name": "Python 3",
   "language": "python",
   "name": "python3"
  },
  "language_info": {
   "codemirror_mode": {
    "name": "ipython",
    "version": 3
   },
   "file_extension": ".py",
   "mimetype": "text/x-python",
   "name": "python",
   "nbconvert_exporter": "python",
   "pygments_lexer": "ipython3",
   "version": "3.8.2"
  }
 },
 "nbformat": 4,
 "nbformat_minor": 5
}
